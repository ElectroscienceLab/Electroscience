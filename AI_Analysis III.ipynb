{
  "cells": [
    {
      "cell_type": "markdown",
      "metadata": {},
      "source": [
        "<left>\n",
        "    <img src=\"https://upload.wikimedia.org/wikipedia/commons/f/f3/Logo_SYGNET.png\" width=\"90\" alt=\"cognitiveclass.ai logo\">\n",
        "</left>\n",
        "\n",
        "<center>\n",
        "    <img src=\"https://upload.wikimedia.org/wikipedia/commons/2/2d/Tensorflow_logo.svg\" width=\"200\" alt=\"cognitiveclass.ai logo\">\n",
        "</center>\n",
        "\n",
        "\n",
        "\n",
        "\n",
        "# A.I. Dataset Analysis \n",
        "## Part III - Feature Engineering\n",
        "\n",
        "Postprocessing the simulation results from ZSOIL for Neural Network training.\n",
        "\n",
        "## Objectives\n",
        "\n",
        "By conducting this thorough data analysis, we'll gain a deeper understanding of the dataset and the underlying physical processes. This will not only help in building a better NN model but also provide valuable insights into the soil subsidence phenomenon in our simulation. These insights can guide feature selection, inform model architecture decisions, and improve interpretability of the NN's results.\n",
        "\n",
        "*   Data Science with Python\n",
        "*   Statistics"
      ]
    },
    {
      "cell_type": "markdown",
      "metadata": {},
      "source": [
        "<h3>Table of Contents</h3>\n",
        "<div class=\"alert alert-block alert-info\" style=\"margin-top: 20px\">\n",
        "    <ul>\n",
        "        <li><a href=\"#III. Feature Engineering\"><b>II. Feature Engineering</b></a></li>\n",
        "        <li><a href=\"#- Correlation and Causality\">- Correlation and Causality</a></li>\n",
        "        <li><a href=\"#- Regression Analysis\">- Regression Analysis</a></li>\n",
        "    </ul>\n",
        "</div>\n",
        "\n",
        "<hr>"
      ]
    },
    {
      "cell_type": "code",
      "execution_count": 25,
      "metadata": {
        "trusted": true
      },
      "outputs": [
        {
          "name": "stdout",
          "output_type": "stream",
          "text": [
            "Requirement already satisfied: statsmodels in /usr/local/python/3.12.1/lib/python3.12/site-packages (0.14.2)\n",
            "Requirement already satisfied: numpy>=1.22.3 in /home/codespace/.local/lib/python3.12/site-packages (from statsmodels) (2.1.0)\n",
            "Requirement already satisfied: scipy!=1.9.2,>=1.8 in /home/codespace/.local/lib/python3.12/site-packages (from statsmodels) (1.14.0)\n",
            "Requirement already satisfied: pandas!=2.1.0,>=1.4 in /home/codespace/.local/lib/python3.12/site-packages (from statsmodels) (2.2.2)\n",
            "Requirement already satisfied: patsy>=0.5.6 in /usr/local/python/3.12.1/lib/python3.12/site-packages (from statsmodels) (0.5.6)\n",
            "Requirement already satisfied: packaging>=21.3 in /home/codespace/.local/lib/python3.12/site-packages (from statsmodels) (24.1)\n",
            "Requirement already satisfied: python-dateutil>=2.8.2 in /home/codespace/.local/lib/python3.12/site-packages (from pandas!=2.1.0,>=1.4->statsmodels) (2.9.0.post0)\n",
            "Requirement already satisfied: pytz>=2020.1 in /home/codespace/.local/lib/python3.12/site-packages (from pandas!=2.1.0,>=1.4->statsmodels) (2024.1)\n",
            "Requirement already satisfied: tzdata>=2022.7 in /home/codespace/.local/lib/python3.12/site-packages (from pandas!=2.1.0,>=1.4->statsmodels) (2024.1)\n",
            "Requirement already satisfied: six in /home/codespace/.local/lib/python3.12/site-packages (from patsy>=0.5.6->statsmodels) (1.16.0)\n",
            "1.14.0\n"
          ]
        }
      ],
      "source": [
        "!pip install statsmodels\n",
        "\n",
        "import seaborn as sns\n",
        "import matplotlib.pyplot as plt\n",
        "import pandas as pd\n",
        "import numpy as np\n",
        "import scipy\n",
        "import statsmodels.api as sm\n",
        "from mpl_toolkits.mplot3d import Axes3D\n",
        "\n",
        "print(scipy.__version__)\n"
      ]
    },
    {
      "cell_type": "markdown",
      "metadata": {},
      "source": [
        "First we read the postprocessed file:"
      ]
    },
    {
      "cell_type": "code",
      "execution_count": 26,
      "metadata": {
        "trusted": true
      },
      "outputs": [
        {
          "name": "stdout",
          "output_type": "stream",
          "text": [
            "           TIME        SF  PUSHOVER LABEL  PUSHOVER LAMBDA  PUSHOVER U-CTRL  \\\n",
            "0           0.0       0.0             0.0              0.0              0.0   \n",
            "1           0.0       0.0             0.0              0.0              0.0   \n",
            "2           0.0       0.0             0.0              0.0              0.0   \n",
            "3           0.0       0.0             0.0              0.0              0.0   \n",
            "4           0.0       0.0             0.0              0.0              0.0   \n",
            "\n",
            "   ARC LENGTH STEP  ARC LENGTH U-NORM  ARC LENGTH LOAD FACTOR        NR  \\\n",
            "0              0.0                0.0                     0.0       0.0   \n",
            "1              0.0                0.0                     0.0       1.0   \n",
            "2              0.0                0.0                     0.0       2.0   \n",
            "3              0.0                0.0                     0.0       3.0   \n",
            "4              0.0                0.0                     0.0       4.0   \n",
            "\n",
            "          X  ...    Saturation  Fluid velocity-X  Fluid velocity-Y  \\\n",
            "0   0.00000  ...      0.000000      0.000000e+00      0.000000e+00   \n",
            "1  50.00000  ...      0.082042     -1.217066e-06      1.123265e-08   \n",
            "2  48.07692  ...     -0.000004      4.524793e-08      0.000000e+00   \n",
            "3  46.15385  ...      0.086033     -1.147811e-06     -1.692449e-08   \n",
            "4  44.23077  ...     -0.000002     -1.571781e-08      0.000000e+00   \n",
            "\n",
            "   Fluid velocity-Z  Fluid velocity-ABS            Pc  Pore pressure  \\\n",
            "0          0.000000            0.000000           0.0        0.00000   \n",
            "1          0.000000            0.000001           0.0       60.73864   \n",
            "2          0.000004           58.235880           0.0        0.00000   \n",
            "3          0.000000            0.000001           0.0       57.90182   \n",
            "4          0.000002           78.100390           0.0        0.00000   \n",
            "\n",
            "   alpha*(S*pF+<dpF_undr>)   Temperature  Unnamed: 60  \n",
            "0                 0.000000           0.0          0.0  \n",
            "1                 4.983144           0.0          0.0  \n",
            "2                 0.000000           0.0          0.0  \n",
            "3                 4.981462           0.0          0.0  \n",
            "4                 0.000000           0.0          0.0  \n",
            "\n",
            "[5 rows x 83 columns]\n"
          ]
        }
      ],
      "source": [
        "combined_data = pd.read_csv('corrected_results.csv')\n",
        "print(combined_data.head())"
      ]
    },
    {
      "cell_type": "code",
      "execution_count": 29,
      "metadata": {},
      "outputs": [],
      "source": [
        "# Function to clean column names\n",
        "def clean_column_names(df):\n",
        "    df.columns = df.columns.str.strip()  # Strip leading and trailing spaces\n",
        "    df.columns = df.columns.str.replace(r'\\s+', ' ', regex=True)  # Replace multiple spaces with a single space\n",
        "    return df\n",
        "\n",
        "# Apply the cleaning function to your dataframes\n",
        "combined_data = clean_column_names(combined_data)"
      ]
    },
    {
      "cell_type": "code",
      "execution_count": 30,
      "metadata": {},
      "outputs": [
        {
          "name": "stdout",
          "output_type": "stream",
          "text": [
            "Non-numeric columns: Index([], dtype='object')\n"
          ]
        }
      ],
      "source": [
        "# Identify non-numeric columns\n",
        "non_numeric_cols = combined_data.select_dtypes(exclude=['float64', 'int64']).columns\n",
        "print(\"Non-numeric columns:\", non_numeric_cols)\n"
      ]
    },
    {
      "cell_type": "code",
      "execution_count": 15,
      "metadata": {},
      "outputs": [
        {
          "name": "stdout",
          "output_type": "stream",
          "text": [
            "One-hot encoded Y_category columns: Index(['TIME', 'SF', 'PUSHOVER LABEL', 'PUSHOVER LAMBDA', 'PUSHOVER U-CTRL',\n",
            "       'ARC LENGTH STEP', 'ARC LENGTH U-NORM', 'ARC LENGTH LOAD FACTOR', 'NR',\n",
            "       'X', 'Y', 'Displacement-X', 'Displacement-Y', 'Rotation-Z',\n",
            "       'Pore pressure-', 'Total head-', 'Residual Force-X', 'Residual Force-Y',\n",
            "       'Residual Heat flux-Z', 'Solid-Velocity-X', 'Solid-Velocity-Y',\n",
            "       'Solid-Acceleration-X', 'Solid-Acceleration-Y', 'Unnamed: 23', 'TIME.1',\n",
            "       'SF.1', 'PUSHOVER LABEL.1', 'PUSHOVER LAMBDA.1', 'PUSHOVER U-CTRL.1',\n",
            "       'ARC LENGTH STEP.1', 'ARC LENGTH U-NORM.1', 'ARC LENGTH LOAD FACTOR.1',\n",
            "       'ELEM.', 'GP', 'Z', 'Eff.Stress-XX', 'Eff.Stress-YY', 'Eff.Stress-XY',\n",
            "       'Eff.Stress-ZZ', 'Eff.Stress-XZ', 'Eff.Stress-YZ', 'Eff.Stress-11',\n",
            "       'Eff.Stress-22', 'Eff.Stress-33', 'Eff.Stress-I1', 'Eff.Stress-J2^1/2',\n",
            "       'Eff.Stress-p', 'Eff.Stress-q', 'Tot.Stress-XX', 'Tot.Stress-YY',\n",
            "       'Tot.Stress-XY', 'Tot.Stress-ZZ', 'Tot.Stress-XZ', 'Tot.Stress-YZ',\n",
            "       'Tot.Stress-11', 'Tot.Stress-22', 'Tot.Stress-33', 'Tot.Stress-I1',\n",
            "       'Tot.Stress-J2^1/2', 'Tot.Stress-p', 'Tot.Stress-q', 'Strain-XX',\n",
            "       'Strain-YY', 'Strain-XY', 'Strain-ZZ', 'Strain-XZ', 'Strain-YZ',\n",
            "       'Strain-11', 'Strain-22', 'Strain-33', 'Strain-I1', 'Strain-J2^1/2',\n",
            "       'Stress level', 'Saturation', 'Fluid velocity-X', 'Fluid velocity-Y',\n",
            "       'Fluid velocity-Z', 'Fluid velocity-ABS', 'Pc', 'Pore pressure',\n",
            "       'alpha*(S*pF+<dpF_undr>)', 'Temperature', 'Unnamed: 60',\n",
            "       'Y_category_low', 'Y_category_medium', 'Y_category_high'],\n",
            "      dtype='object')\n"
          ]
        }
      ],
      "source": [
        "# Apply one-hot encoding to 'Y_category'\n",
        "combined_data = pd.get_dummies(combined_data, columns=['Y_category'])\n",
        "\n",
        "print(\"One-hot encoded Y_category columns:\", combined_data.columns)"
      ]
    },
    {
      "cell_type": "code",
      "execution_count": 27,
      "metadata": {
        "trusted": true
      },
      "outputs": [
        {
          "name": "stdout",
          "output_type": "stream",
          "text": [
            "               TIME        SF  PUSHOVER LABEL  PUSHOVER LAMBDA  \\\n",
            "count  15973.000000   15973.0         15973.0          15973.0   \n",
            "mean       1.999624       0.0             0.0              0.0   \n",
            "std        1.414391       0.0             0.0              0.0   \n",
            "min        0.000000       0.0             0.0              0.0   \n",
            "25%        1.000000       0.0             0.0              0.0   \n",
            "50%        2.000000       0.0             0.0              0.0   \n",
            "75%        3.000000       0.0             0.0              0.0   \n",
            "max        4.000000       0.0             0.0              0.0   \n",
            "\n",
            "       PUSHOVER U-CTRL  ARC LENGTH STEP  ARC LENGTH U-NORM  \\\n",
            "count          15973.0          15973.0            15973.0   \n",
            "mean               0.0              0.0                0.0   \n",
            "std                0.0              0.0                0.0   \n",
            "min                0.0              0.0                0.0   \n",
            "25%                0.0              0.0                0.0   \n",
            "50%                0.0              0.0                0.0   \n",
            "75%                0.0              0.0                0.0   \n",
            "max                0.0              0.0                0.0   \n",
            "\n",
            "       ARC LENGTH LOAD FACTOR            NR             X  ...    Saturation  \\\n",
            "count                 15973.0  15973.000000  1.597300e+04  ...  15973.000000   \n",
            "mean                      0.0    799.164841  6.213293e+01  ...      0.285151   \n",
            "std                       0.0    461.668167  3.637416e+01  ...      0.431119   \n",
            "min                       0.0      0.000000 -1.421085e-14  ...     -0.355386   \n",
            "25%                       0.0    400.000000  3.091176e+01  ...     -0.000963   \n",
            "50%                       0.0    799.000000  6.500284e+01  ...      0.027177   \n",
            "75%                       0.0   1198.000000  8.984375e+01  ...      1.000000   \n",
            "max                       0.0   1640.000000  1.250000e+02  ...      1.000000   \n",
            "\n",
            "       Fluid velocity-X  Fluid velocity-Y  Fluid velocity-Z  \\\n",
            "count      1.597300e+04      15973.000000      15973.000000   \n",
            "mean      -8.343971e-03         -0.010128          0.009375   \n",
            "std        8.613281e-02          0.109633          0.085122   \n",
            "min       -2.079163e+00         -2.794280          0.000000   \n",
            "25%       -2.185263e-03         -0.000006          0.000000   \n",
            "50%       -1.958597e-05          0.000000          0.000000   \n",
            "75%       -1.244098e-07          0.000000          0.002164   \n",
            "max        2.623503e-01          0.000878          2.081053   \n",
            "\n",
            "       Fluid velocity-ABS            Pc  Pore pressure  \\\n",
            "count        15973.000000       15973.0   15973.000000   \n",
            "mean            -6.409188           0.0      -1.870086   \n",
            "std             79.150547           0.0      82.793747   \n",
            "min           -205.162200           0.0    -205.529500   \n",
            "25%             -9.476065           0.0      -1.524846   \n",
            "50%              0.001435           0.0       0.000000   \n",
            "75%              0.036842           0.0       1.867624   \n",
            "max            184.965300           0.0     184.908600   \n",
            "\n",
            "       alpha*(S*pF+<dpF_undr>)   Temperature  Unnamed: 60  \n",
            "count             15973.000000       15973.0      15973.0  \n",
            "mean                -24.349880           0.0          0.0  \n",
            "std                  55.615576           0.0          0.0  \n",
            "min                -205.529500           0.0          0.0  \n",
            "25%                  -1.524846           0.0          0.0  \n",
            "50%                   0.000000           0.0          0.0  \n",
            "75%                   1.749558           0.0          0.0  \n",
            "max                   4.998173           0.0          0.0  \n",
            "\n",
            "[8 rows x 83 columns]\n"
          ]
        }
      ],
      "source": [
        "print(combined_data.describe())"
      ]
    },
    {
      "cell_type": "markdown",
      "metadata": {},
      "source": [
        "### 3. Feature Engineering"
      ]
    },
    {
      "cell_type": "markdown",
      "metadata": {},
      "source": [
        "Identify key features and create new ones that might capture important aspects of the soil subsidence phenomenon.\n",
        "\n",
        "<b>Stress-Strain Relationships:</b> Create features that represent stress-strain relationships, as these are crucial in geomechanical modeling.\n",
        "\n",
        "<b>Derived Variables:</b> For instance, calculating the magnitude of the resultant displacement vector, combining displacements in all directions."
      ]
    },
    {
      "cell_type": "code",
      "execution_count": 40,
      "metadata": {
        "trusted": true
      },
      "outputs": [
        {
          "data": {
            "text/html": [
              "<div>\n",
              "<style scoped>\n",
              "    .dataframe tbody tr th:only-of-type {\n",
              "        vertical-align: middle;\n",
              "    }\n",
              "\n",
              "    .dataframe tbody tr th {\n",
              "        vertical-align: top;\n",
              "    }\n",
              "\n",
              "    .dataframe thead th {\n",
              "        text-align: right;\n",
              "    }\n",
              "</style>\n",
              "<table border=\"1\" class=\"dataframe\">\n",
              "  <thead>\n",
              "    <tr style=\"text-align: right;\">\n",
              "      <th></th>\n",
              "      <th>Displacement-X</th>\n",
              "      <th>Displacement-Y</th>\n",
              "      <th>Displacement-Magnitude</th>\n",
              "    </tr>\n",
              "  </thead>\n",
              "  <tbody>\n",
              "    <tr>\n",
              "      <th>0</th>\n",
              "      <td>0.0</td>\n",
              "      <td>1.229084</td>\n",
              "      <td>1.229084</td>\n",
              "    </tr>\n",
              "    <tr>\n",
              "      <th>1</th>\n",
              "      <td>0.0</td>\n",
              "      <td>1.229084</td>\n",
              "      <td>228.921000</td>\n",
              "    </tr>\n",
              "    <tr>\n",
              "      <th>2</th>\n",
              "      <td>0.0</td>\n",
              "      <td>1.229084</td>\n",
              "      <td>230.596776</td>\n",
              "    </tr>\n",
              "    <tr>\n",
              "      <th>3</th>\n",
              "      <td>0.0</td>\n",
              "      <td>1.229084</td>\n",
              "      <td>234.030227</td>\n",
              "    </tr>\n",
              "    <tr>\n",
              "      <th>4</th>\n",
              "      <td>0.0</td>\n",
              "      <td>1.229084</td>\n",
              "      <td>201.321652</td>\n",
              "    </tr>\n",
              "  </tbody>\n",
              "</table>\n",
              "</div>"
            ],
            "text/plain": [
              "   Displacement-X  Displacement-Y  Displacement-Magnitude\n",
              "0             0.0        1.229084                1.229084\n",
              "1             0.0        1.229084              228.921000\n",
              "2             0.0        1.229084              230.596776\n",
              "3             0.0        1.229084              234.030227\n",
              "4             0.0        1.229084              201.321652"
            ]
          },
          "execution_count": 40,
          "metadata": {},
          "output_type": "execute_result"
        }
      ],
      "source": [
        "combined_data['Displacement-Magnitude'] = (combined_data['Displacement-Y']**2 + combined_data['Eff.Stress-YY']**2)**0.5\n",
        "combined_data[['Displacement-X', 'Displacement-Y', 'Displacement-Magnitude']].head()"
      ]
    },
    {
      "cell_type": "markdown",
      "metadata": {},
      "source": [
        "<b>Cumulative Variables:</b> Track changes over time or between stages, such as cumulative displacement or pore pressure."
      ]
    },
    {
      "cell_type": "code",
      "execution_count": 56,
      "metadata": {
        "trusted": true
      },
      "outputs": [
        {
          "data": {
            "text/html": [
              "<div>\n",
              "<style scoped>\n",
              "    .dataframe tbody tr th:only-of-type {\n",
              "        vertical-align: middle;\n",
              "    }\n",
              "\n",
              "    .dataframe tbody tr th {\n",
              "        vertical-align: top;\n",
              "    }\n",
              "\n",
              "    .dataframe thead th {\n",
              "        text-align: right;\n",
              "    }\n",
              "</style>\n",
              "<table border=\"1\" class=\"dataframe\">\n",
              "  <thead>\n",
              "    <tr style=\"text-align: right;\">\n",
              "      <th></th>\n",
              "      <th>TIME</th>\n",
              "      <th>Displacement-Y</th>\n",
              "      <th>Cumulative-Displacement-Y</th>\n",
              "    </tr>\n",
              "  </thead>\n",
              "  <tbody>\n",
              "    <tr>\n",
              "      <th>0</th>\n",
              "      <td>0.0</td>\n",
              "      <td>1.229084</td>\n",
              "      <td>1.229084</td>\n",
              "    </tr>\n",
              "    <tr>\n",
              "      <th>1</th>\n",
              "      <td>0.0</td>\n",
              "      <td>1.229084</td>\n",
              "      <td>2.458169</td>\n",
              "    </tr>\n",
              "    <tr>\n",
              "      <th>2</th>\n",
              "      <td>0.0</td>\n",
              "      <td>1.229084</td>\n",
              "      <td>3.687253</td>\n",
              "    </tr>\n",
              "    <tr>\n",
              "      <th>3</th>\n",
              "      <td>0.0</td>\n",
              "      <td>1.229084</td>\n",
              "      <td>4.916337</td>\n",
              "    </tr>\n",
              "    <tr>\n",
              "      <th>4</th>\n",
              "      <td>0.0</td>\n",
              "      <td>1.229084</td>\n",
              "      <td>6.145422</td>\n",
              "    </tr>\n",
              "  </tbody>\n",
              "</table>\n",
              "</div>"
            ],
            "text/plain": [
              "   TIME  Displacement-Y  Cumulative-Displacement-Y\n",
              "0   0.0        1.229084                   1.229084\n",
              "1   0.0        1.229084                   2.458169\n",
              "2   0.0        1.229084                   3.687253\n",
              "3   0.0        1.229084                   4.916337\n",
              "4   0.0        1.229084                   6.145422"
            ]
          },
          "execution_count": 56,
          "metadata": {},
          "output_type": "execute_result"
        }
      ],
      "source": [
        "combined_data['Cumulative-Displacement-Y'] = combined_data.groupby('TIME')['Displacement-Y'].cumsum()\n",
        "combined_data[['TIME', 'Displacement-Y', 'Cumulative-Displacement-Y']].head()"
      ]
    },
    {
      "cell_type": "markdown",
      "metadata": {},
      "source": [
        "### 4. Temporal Analysis"
      ]
    },
    {
      "cell_type": "markdown",
      "metadata": {},
      "source": [
        "If your data has a temporal component, you can explore time series analysis techniques:\n",
        "\n",
        "<b>Trend Analysis:</b> Detect long-term trends in displacement or other variables.\n",
        "\n",
        "<b>Fourier Analysis:</b> Identify periodic patterns that might relate to external factors or cyclic loading conditions."
      ]
    },
    {
      "cell_type": "markdown",
      "metadata": {},
      "source": [
        "### 5. Domain-Specific Analysis"
      ]
    },
    {
      "cell_type": "markdown",
      "metadata": {},
      "source": [
        "In geomechanics, certain analyses are particularly useful:\n",
        "\n",
        "<b>Mohr-Coulomb Failure Criterion:</b> Evaluate whether certain regions or elements are approaching failure conditions based on stress states.\n",
        "\n",
        "<b>Critical State Line:</b> Plot stress points to see how close they are to critical state conditions, which can indicate potential subsidence or failure."
      ]
    },
    {
      "cell_type": "code",
      "execution_count": null,
      "metadata": {
        "trusted": true
      },
      "outputs": [],
      "source": []
    }
  ],
  "metadata": {
    "kernelspec": {
      "display_name": "Python 3",
      "language": "python",
      "name": "python3"
    },
    "language_info": {
      "codemirror_mode": {
        "name": "ipython",
        "version": 3
      },
      "file_extension": ".py",
      "mimetype": "text/x-python",
      "name": "python",
      "nbconvert_exporter": "python",
      "pygments_lexer": "ipython3",
      "version": "3.12.1"
    }
  },
  "nbformat": 4,
  "nbformat_minor": 4
}
