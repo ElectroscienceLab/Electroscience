{
 "cells": [
  {
   "attachments": {
    "a2109378-f171-431b-b07e-3fcf1b0b2cd9.jpg": {
     "image/jpeg": "[encoded data removed]"
    }
   },
   "cell_type": "markdown",
   "id": "71b34817-88ae-4692-985c-dd4935f7ffc6",
   "metadata": {
    "tags": []
   },
   "source": [
    "<left>\n",
    "    <img src=\"https://upload.wikimedia.org/wikipedia/commons/f/f3/Logo_SYGNET.png\" width=\"90\" alt=\"cognitiveclass.ai logo\">\n",
    "</left>\n",
    "\n",
    "<center>\n",
    "    <img src=\"attachment:a2109378-f171-431b-b07e-3fcf1b0b2cd9.jpg\" width=\"300\" alt=\"cognitiveclass.ai logo\">\n",
    "</center>\n",
    "\n",
    "\n",
    "\n",
    "\n",
    "# A.I. Polynomial Chaos Expansion\n",
    "\n",
    "\n",
    "Building the PCE Metamodel for a subsidence prediction hybrid approach with LSTM network.\n",
    "\n",
    "## Objectives\n",
    "\n",
    "By conducting this thorough data analysis, we'll gain a deeper understanding of the dataset and the underlying physical processes. This will not only help in building a better NN model but also provide valuable insights into the soil subsidence phenomenon in our simulation. These insights can guide feature selection, inform model architecture decisions, and improve interpretability of the NN's results.\n",
    "\n",
    "*   Data Science with Python\n",
    "*   Statistics"
   ]
  },
  {
   "cell_type": "markdown",
   "id": "04146f63-5583-43d5-bcab-c6ac21620e0d",
   "metadata": {},
   "source": [
    "<h3>Table of Contents</h3>\n",
    "<div class=\"alert alert-block alert-info\" style=\"margin-top: 20px\">\n",
    "    <ul>\n",
    "        <li><a href=\"#1. Installing TensorFlow\">1. Installing TensorFlow</a></li>\n",
    "        <li><a href=\"#2. Importing Libraries\">2. Importing Libraries</a></li>\n",
    "        <li><a href=\"#3. Loading the AI_Dataset\">3. Loading the AI_Dataset</a></li>\n",
    "        <li><a href=\"#4. Tailoring 3 Datasets\">4. Tailoring 3 Datasets</a></li>\n",
    "        <li><a href=\"#5. Splitting the Data Samples\">5. Splitting the Data Samples</a></li>\n",
    "        <li><a href=\"#6. Polynomial Distribution\">6. Polynomial Distribution</a></li>\n",
    "        <li><a href=\"#7. Polynomial Basis\">7. Polynomial Basis</a></li>\n",
    "        <li><a href=\"#8. Residuals Interpolation for Matching with X_TRAIN\">8. Residuals Interpolation for Matching with                      X_TRAIN</a></li>\n",
    "        <li><a href=\"#9. Maximum Dimension and Adaptive Strategy\">9. Maximum Dimension and Adaptive Strategy</a></li>\n",
    "        <li><a href=\"#10. Checking Dimensions of Final Data\">10. Checking Dimensions of Final Data</a></li>\n",
    "        <li><a href=\"#11. Fit Polynomial Chaos Expansion (PCE) using OpenTURNS\">11. Fit Polynomial Chaos Expansion (PCE)                      using OpenTURNS</a></li>\n",
    "        <li><a href=\"#12. Calculate Mean-Squared Errors of LSTM\">12. Calculate Mean-Squared Errors of LSTM</a></li>\n",
    "    </ul>\n",
    "</div>\n",
    "\n",
    "<hr>"
   ]
  },
  {
   "cell_type": "markdown",
   "id": "c0a0b931-5dc7-48d1-bc35-26f489ed9aaf",
   "metadata": {},
   "source": [
    "<h3>1. Installing OpenTURNS and other Modules</h3>"
   ]
  },
  {
   "cell_type": "code",
   "execution_count": null,
   "id": "f74dcc92-5ff3-4390-ba74-6595fa976387",
   "metadata": {},
   "outputs": [],
   "source": [
    "# Install OpenMDAO\n",
    "!pip install openmdao[all]\n",
    "!pip install numpy==1.21.6\n",
    "!pip install statsmodels\n",
    "!pip install chaospy\n",
    "!pip install openturns==1.23"
   ]
  },
  {
   "cell_type": "markdown",
   "id": "b3835e31-b88a-4f45-bfe5-8e5e7133156b",
   "metadata": {},
   "source": [
    "<h3>2. Importing Libraries</h3>"
   ]
  },
  {
   "cell_type": "code",
   "execution_count": 4,
   "id": "a8e7bd51-4698-4df5-98e1-f0383cb2e1c1",
   "metadata": {
    "tags": []
   },
   "outputs": [
    {
     "name": "stdout",
     "output_type": "stream",
     "text": [
      "1.7.3\n"
     ]
    }
   ],
   "source": [
    "import chaospy as cp\n",
    "import openturns as ot\n",
    "import openturns.viewer as viewer\n",
    "import openmdao\n",
    "import time\n",
    "import pandas as pd\n",
    "import numpy as np\n",
    "import seaborn as sns\n",
    "import matplotlib.pyplot as plt\n",
    "from matplotlib import pylab as plt\n",
    "import statsmodels.api as sm\n",
    "import scipy\n",
    "print(ot.__version__)"
   ]
  },
  {
   "cell_type": "markdown",
   "id": "8a96e983-8c81-4d3e-87ba-eae5eb737d0f",
   "metadata": {},
   "source": [
    "<h3>3. Loading the <i>LSTM Performance Records</i></h3>"
   ]
  },
  {
   "cell_type": "markdown",
   "id": "4ef26d77-b16c-4586-ad01-2a7fa52b9bcf",
   "metadata": {},
   "source": [
    "Overall Test Loss"
   ]
  },
  {
   "cell_type": "code",
   "execution_count": null,
   "id": "7e073275-2260-46c0-921f-c8696b4d0291",
   "metadata": {
    "tags": []
   },
   "outputs": [],
   "source": [
    "from sklearn.preprocessing import RobustScaler\n",
    "\n",
    "# Load the data from CSV\n",
    "train_data = pd.read_csv('test_predictions.csv')\n",
    "\n",
    "# Remove NaNs and infinity values\n",
    "train_data.replace([np.inf, -np.inf], np.nan, inplace=True)\n",
    "train_data.dropna(inplace=True)\n",
    "\n",
    "# Remove outliers using IQR\n",
    "Q1 = train_data['Test Predictions'].quantile(0.25)\n",
    "Q3 = train_data['Test Predictions'].quantile(0.75)\n",
    "IQR = Q3 - Q1\n",
    "train_data = train_data[~((train_data['Test Predictions'] < (Q1 - 1.5 * IQR)) | (train_data['Test Predictions'] > (Q3 + 1.5 * IQR)))]\n",
    "\n",
    "# Normalize and scale data\n",
    "scaler = RobustScaler()\n",
    "train_data['Test Predictions'] = scaler.fit_transform(train_data[['Test Predictions']])\n",
    "\n",
    "print(train_data)"
   ]
  },
  {
   "cell_type": "markdown",
   "id": "f5e345b0-4d67-41e8-886a-457f147254fb",
   "metadata": {},
   "source": [
    "Validation Loss"
   ]
  },
  {
   "cell_type": "code",
   "execution_count": null,
   "id": "c41c4fc0-d4b2-4b6e-934c-17fde4ebadda",
   "metadata": {},
   "outputs": [],
   "source": [
    "# Load the data from CSV\n",
    "test_data = pd.read_csv('validation_predictions.csv')\n",
    "\n",
    "# Remove NaNs and infinity values\n",
    "test_data.replace([np.inf, -np.inf], np.nan, inplace=True)\n",
    "test_data.dropna(inplace=True)\n",
    "\n",
    "# Remove outliers using IQR\n",
    "Q1 = test_data['Validation Predictions'].quantile(0.25)\n",
    "Q3 = test_data['Validation Predictions'].quantile(0.75)\n",
    "IQR = Q3 - Q1\n",
    "test_data = test_data[~((test_data['Validation Predictions'] < (Q1 - 1.5 * IQR)) | (test_data['Validation Predictions'] > (Q3 + 1.5 * IQR)))]\n",
    "\n",
    "# Normalize and scale data\n",
    "scaler = RobustScaler()\n",
    "test_data['Validation Predictions'] = scaler.fit_transform(test_data[['Validation Predictions']])\n",
    "\n",
    "print(test_data)"
   ]
  },
  {
   "cell_type": "markdown",
   "id": "ad1d7092-4b16-4085-8132-851d0bad63c0",
   "metadata": {},
   "source": [
    "Training Loss"
   ]
  },
  {
   "cell_type": "code",
   "execution_count": null,
   "id": "019f462d-473f-48a8-81b3-4877439d69e2",
   "metadata": {},
   "outputs": [],
   "source": [
    "# Load the data from CSV\n",
    "run_data = pd.read_csv('train_predictions.csv')\n",
    "\n",
    "# Remove NaNs and infinity values\n",
    "run_data.replace([np.inf, -np.inf], np.nan, inplace=True)\n",
    "run_data.dropna(inplace=True)\n",
    "\n",
    "# Remove outliers using IQR\n",
    "Q1 = run_data['Train Predictions'].quantile(0.25)\n",
    "Q3 = run_data['Train Predictions'].quantile(0.75)\n",
    "IQR = Q3 - Q1\n",
    "run_data = run_data[~((run_data['Train Predictions'] < (Q1 - 1.5 * IQR)) | (run_data['Train Predictions'] > (Q3 + 1.5 * IQR)))]\n",
    "\n",
    "# Normalize and scale data\n",
    "scaler = RobustScaler()\n",
    "run_data['Train Predictions'] = scaler.fit_transform(run_data[['Train Predictions']])\n",
    "run_data = run_data.sample(n=2304, random_state=42)\n",
    "print(run_data)\n",
    "\n",
    "run_array = run_data.values\n",
    "#run_array = run_array[:2304]\n",
    "\n",
    "\n",
    "print(run_array)"
   ]
  },
  {
   "cell_type": "markdown",
   "id": "bbb1d03a-a5b8-4288-a0d4-f9a49585d6f9",
   "metadata": {},
   "source": [
    "<h3>4. Loading Training Dataset</h3>"
   ]
  },
  {
   "cell_type": "markdown",
   "id": "1992d1df-3f77-40f9-88a8-b015b04490e4",
   "metadata": {
    "tags": []
   },
   "source": [
    "PIM Subsidence"
   ]
  },
  {
   "cell_type": "code",
   "execution_count": null,
   "id": "de89e5ec-0e97-46cf-a41c-74ccf662bf14",
   "metadata": {
    "tags": []
   },
   "outputs": [],
   "source": [
    "# Load only the 'PIM_Subsidence' column from CSV\n",
    "pim_subsidence_data = pd.read_csv('PIM_Subsidence.csv', usecols=['PIM_Subsidence'])\n",
    "\n",
    "# Remove NaNs and infinity values\n",
    "pim_subsidence_data.replace([np.inf, -np.inf], np.nan, inplace=True)\n",
    "pim_subsidence_data.dropna(inplace=True)\n",
    "\n",
    "# Remove outliers using IQR\n",
    "Q1 = pim_subsidence_data['PIM_Subsidence'].quantile(0.25)\n",
    "Q3 = pim_subsidence_data['PIM_Subsidence'].quantile(0.75)\n",
    "IQR = Q3 - Q1\n",
    "pim_subsidence_data = pim_subsidence_data[~((pim_subsidence_data['PIM_Subsidence'] < (Q1 - 1.5 * IQR)) | (pim_subsidence_data['PIM_Subsidence'] > (Q3 + 1.5 * IQR)))]\n",
    "\n",
    "# Normalize and scale data\n",
    "scaler = RobustScaler()\n",
    "pim_subsidence_data['PIM_Subsidence'] = scaler.fit_transform(pim_subsidence_data[['PIM_Subsidence']])\n",
    "\n",
    "# Sample the data\n",
    "pim_subsidence_data = pim_subsidence_data.sample(n=2304, random_state=42)\n",
    "\n",
    "# Convert to NumPy array\n",
    "pim_subsidence_array = pim_subsidence_data['PIM_Subsidence'].values\n",
    "\n",
    "print(pim_subsidence_array)"
   ]
  },
  {
   "cell_type": "code",
   "execution_count": null,
   "id": "59a36b6a-1ab2-4939-b1bf-ce26042675aa",
   "metadata": {},
   "outputs": [],
   "source": [
    "# Ensure PIM_Subsidence has 2304 elements\n",
    "if pim_subsidence_array.shape[0] == 2304:\n",
    "    # Reshape to a column vector\n",
    "    pim_subsidence_array = pim_subsidence_array.reshape(-1, 1)\n",
    "else:\n",
    "    print(\"Error: PIM_Subsidence does not have 2304 elements.\")\n",
    "\n",
    "# Now PIM_Subsidence should have the same shape as Train Predictions\n",
    "print(pim_subsidence_array.shape)  # Should output (2304, 1)\n",
    "print(run_array.shape)  # Should output (2304, 1)"
   ]
  },
  {
   "cell_type": "markdown",
   "id": "c57a396e-4f47-43f7-9860-f877d4da02d3",
   "metadata": {},
   "source": [
    "Cumulative-Displacement-Y"
   ]
  },
  {
   "cell_type": "code",
   "execution_count": null,
   "id": "4d87780c-e47f-460a-95a2-d9c5210ac330",
   "metadata": {},
   "outputs": [],
   "source": [
    "# Load only the 'Cumulative-Displacement-Y' column from CSV\n",
    "displacement_data = pd.read_csv('PIM_Subsidence.csv', usecols=['Cumulative-Displacement-Y'])\n",
    "\n",
    "# Remove NaNs and infinity values\n",
    "displacement_data.replace([np.inf, -np.inf], np.nan, inplace=True)\n",
    "displacement_data.dropna(inplace=True)\n",
    "\n",
    "# Remove outliers using IQR\n",
    "Q1 = displacement_data['Cumulative-Displacement-Y'].quantile(0.25)\n",
    "Q3 = displacement_data['Cumulative-Displacement-Y'].quantile(0.75)\n",
    "IQR = Q3 - Q1\n",
    "displacement_data = displacement_data[~((displacement_data['Cumulative-Displacement-Y'] < (Q1 - 1.5 * IQR)) | (displacement_data['Cumulative-Displacement-Y'] > (Q3 + 1.5 * IQR)))]\n",
    "\n",
    "# Normalize and scale data\n",
    "scaler = RobustScaler()\n",
    "displacement_data['Cumulative-Displacement-Y'] = scaler.fit_transform(displacement_data[['Cumulative-Displacement-Y']])\n",
    "\n",
    "# Sample the data\n",
    "displacement_data = displacement_data.sample(n=2304, random_state=42)\n",
    "\n",
    "# Convert to NumPy array\n",
    "displacement_array = displacement_data['Cumulative-Displacement-Y'].values\n",
    "\n",
    "print(displacement_array)"
   ]
  },
  {
   "cell_type": "code",
   "execution_count": null,
   "id": "4d52ba40-0596-455f-85b4-be7bee84c0cb",
   "metadata": {},
   "outputs": [],
   "source": [
    "# Ensure PIM_Subsidence has 2304 elements\n",
    "if displacement_array.shape[0] == 2304:\n",
    "    # Reshape to a column vector\n",
    "    displacement_array = displacement_array.reshape(-1, 1)\n",
    "else:\n",
    "    print(\"Error: Cumulative Displacement does not have 2304 elements.\")\n",
    "\n",
    "# Now PIM_Subsidence should have the same shape as Train Predictions\n",
    "print(displacement_array.shape)  # Should output (2304, 1)\n",
    "print(run_array.shape)  # Should output (2304, 1)"
   ]
  },
  {
   "cell_type": "markdown",
   "id": "3bac9eee-77fc-41d6-9642-740e0de04c86",
   "metadata": {},
   "source": [
    "Check for NaNs in Datasets"
   ]
  },
  {
   "cell_type": "code",
   "execution_count": null,
   "id": "599a354c-bce6-4150-bde3-f9eca5856021",
   "metadata": {},
   "outputs": [],
   "source": [
    "# Check if there are any NaN values left\n",
    "has_nans = train_data.isna().any().any()\n",
    "print(f\"Are there any NaNs left in the train data? {has_nans}\")\n",
    "has_nans = test_data.isna().any().any()\n",
    "print(f\"Are there any NaNs left in the test data? {has_nans}\")\n",
    "has_nans = run_data.isna().any().any()\n",
    "print(f\"Are there any NaNs left in the run data? {has_nans}\")\n",
    "has_nans = pim_subsidence_data.isna().any().any()\n",
    "print(f\"Are there any NaNs left in the run data? {has_nans}\")\n",
    "has_nans = displacement_data.isna().any().any()\n",
    "print(f\"Are there any NaNs left in the run data? {has_nans}\")"
   ]
  },
  {
   "cell_type": "markdown",
   "id": "37d709eb-7aea-4a40-bdfb-460fcc4c1263",
   "metadata": {},
   "source": [
    "<h3>5. Prepare Metamodel Samples</h3>"
   ]
  },
  {
   "cell_type": "code",
   "execution_count": null,
   "id": "91b75f10-1097-4e93-b485-e852af681f08",
   "metadata": {
    "tags": []
   },
   "outputs": [],
   "source": [
    "#train_data = pd.concat([train_data, run_data], axis=1)\n",
    "#test_data = pd.concat([test_data, run_data], axis=1)\n",
    "\n",
    "# Convert the DataFrame to a numpy array (if necessary)\n",
    "train_array = train_data.values\n",
    "test_array = test_data.values\n",
    "\n",
    "test_array = test_array[:2304]\n",
    "\n",
    "train_array = np.concatenate([train_array, run_array], axis=1)\n",
    "test_array = np.concatenate([test_array, run_array], axis=1)\n",
    "dataset_array = np.concatenate([pim_subsidence_array, displacement_array], axis=1)\n",
    "\n",
    "# Create an OpenTURNS Sample\n",
    "inputSample = ot.Sample(train_array)\n",
    "\n",
    "# For self-validation, use the same predictions as the output\n",
    "outputSample = ot.Sample(dataset_array)\n",
    "\n",
    "print(inputSample)\n",
    "print(outputSample)"
   ]
  },
  {
   "cell_type": "markdown",
   "id": "3364d51e-14dc-455c-9c9b-1d37db801dba",
   "metadata": {},
   "source": [
    "Save the Arrays"
   ]
  },
  {
   "cell_type": "code",
   "execution_count": null,
   "id": "9ce5437d-b14f-4a54-b9a6-4e0d274a7e58",
   "metadata": {},
   "outputs": [],
   "source": [
    "# Assuming dataset_array\n",
    "np.save('dataset_array.npy', dataset_array)  # Save dataset to a file\n",
    "np.save('test_array.npy', test_array)  # Save dataset to a file\n",
    "np.save('train_array.npy', train_array)  # Save dataset to a file"
   ]
  },
  {
   "cell_type": "markdown",
   "id": "df94d552-5ed7-45d2-83a6-bd411402bd29",
   "metadata": {},
   "source": [
    "<h3>6. Metamodel Construction</h3>"
   ]
  },
  {
   "cell_type": "code",
   "execution_count": null,
   "id": "6541ae55-54bd-4cf6-b657-0942468bf337",
   "metadata": {
    "tags": []
   },
   "outputs": [],
   "source": [
    "# Proceed with the PCE Metamodel construction\n",
    "algo = ot.FunctionalChaosAlgorithm(inputSample, outputSample)\n",
    "algo.run()\n",
    "result = algo.getResult()\n",
    "result\n",
    "metamodel = result.getMetaModel()"
   ]
  },
  {
   "cell_type": "code",
   "execution_count": null,
   "id": "93df4618-ef7c-41d7-af0c-4b81e21b287b",
   "metadata": {},
   "outputs": [],
   "source": [
    "result"
   ]
  },
  {
   "cell_type": "markdown",
   "id": "2ac62b19-21ae-4845-b096-8d4bb65c6491",
   "metadata": {},
   "source": [
    "<h3>7. Metamodel Validation Plot 1</h3>"
   ]
  },
  {
   "cell_type": "code",
   "execution_count": 9,
   "id": "88b2544d-d2a1-4c4e-b863-ce98238ef8ee",
   "metadata": {
    "tags": []
   },
   "outputs": [],
   "source": [
    "x1index = 0\n",
    "x1value = 0.5\n",
    "x2min = -3.0\n",
    "x2max = 3.0\n",
    "outputIndex = 1\n",
    "metamodelParametric = ot.ParametricFunction(metamodel, [x1index], [x1value])\n",
    "graph = metamodelParametric.getMarginal(outputIndex).draw(x2min, x2max)\n",
    "graph.setLegends([\"Metamodel\"])\n",
    "modelParametric = ot.ParametricFunction(metamodel, [x1index], [x1value])\n",
    "curve = modelParametric.getMarginal(outputIndex).draw(x2min, x2max).getDrawable(0)\n",
    "curve.setColor(\"red\")\n",
    "curve.setLegend(\"Model\")\n",
    "graph.add(curve)\n",
    "graph.setLegendPosition(\"lower right\")\n",
    "graph.setXTitle(\"X2\")\n",
    "graph.setTitle(\"Metamodel Validation, output #%d\" % (outputIndex))\n",
    "view = viewer.View(graph)"
   ]
  },
  {
   "cell_type": "markdown",
   "id": "d61b056a-a8da-44ff-a732-733116991f84",
   "metadata": {},
   "source": [
    "<h3>8. Metamodel Validation</h3>"
   ]
  },
  {
   "cell_type": "code",
   "execution_count": null,
   "id": "7a3e5b0b-f00f-4e7e-877e-72ba42449fc9",
   "metadata": {
    "tags": []
   },
   "outputs": [],
   "source": [
    "# This must be change to take from LSTM dataset\n",
    "dimension = 2\n",
    "n_valid = 100\n",
    "inputTest = inputSample[:n_valid]\n",
    "outputTest = metamodel(inputTest)\n",
    "\n",
    "# Perform the metamodel validation\n",
    "val = ot.MetaModelValidation(inputSample, outputSample, metamodel)\n",
    "# list all available methods for the MetaModelValidation object val\n",
    "dir(val)"
   ]
  },
  {
   "cell_type": "markdown",
   "id": "b85a84ca-cf80-4f55-97aa-8ada67c9fbd1",
   "metadata": {},
   "source": [
    "<h3>9. Compute R2</h3>"
   ]
  },
  {
   "cell_type": "code",
   "execution_count": 11,
   "id": "3f6bd4b2-5199-4944-b8b8-a122ed026e7d",
   "metadata": {
    "tags": []
   },
   "outputs": [],
   "source": [
    "# Compute R2\n",
    "R2 = val.computeR2Score()\n",
    "print(f\"R2 Score: {R2}\")"
   ]
  },
  {
   "cell_type": "markdown",
   "id": "17378ea0-cb00-4342-b234-af3415a54a52",
   "metadata": {
    "tags": []
   },
   "source": [
    "Plot R2 Validation"
   ]
  },
  {
   "cell_type": "code",
   "execution_count": null,
   "id": "8f2ebad5-b6ff-4b4d-852c-a3849dca7125",
   "metadata": {},
   "outputs": [],
   "source": [
    "graph = val.drawValidation()\n",
    "graph.setTitle(\"Metamodel validation R2=\" + str(R2))\n",
    "view = viewer.View(graph)"
   ]
  },
  {
   "cell_type": "markdown",
   "id": "6a52fd97-3e91-4edd-9eff-f479a74fbc88",
   "metadata": {},
   "source": [
    "<h3>10. Check Mean Squared Error</h3>"
   ]
  },
  {
   "cell_type": "code",
   "execution_count": null,
   "id": "0b799344-00c6-4d9a-8dd4-fa00a047c426",
   "metadata": {
    "tags": []
   },
   "outputs": [],
   "source": [
    "# Compute MSE\n",
    "true_output = np.array(outputSample[:n_valid])  # True values for the test set\n",
    "predicted_output = np.array(outputTest)         # Predicted values by the PCE metamodel\n",
    "\n",
    "# Calculate MSE using numpy\n",
    "mse = np.mean((true_output - predicted_output) ** 2)\n",
    "print(f\"Mean Squared Error: {mse}\")"
   ]
  },
  {
   "cell_type": "markdown",
   "id": "701f0eab-1916-4f30-837c-0fc7706ab229",
   "metadata": {},
   "source": [
    "<h3>11. Sobol Indices</h3>"
   ]
  },
  {
   "cell_type": "code",
   "execution_count": 18,
   "id": "a88aaeb2-335d-4d16-8c92-ec6daedbeb91",
   "metadata": {
    "tags": []
   },
   "outputs": [],
   "source": [
    "chaosSI = ot.FunctionalChaosSobolIndices(result)\n",
    "chaosSI"
   ]
  },
  {
   "cell_type": "markdown",
   "id": "0c6c83c4-4c3c-4cce-beb7-dd3acc5eeddd",
   "metadata": {},
   "source": [
    "<h3>12. Sensitivity Analysis</h3>"
   ]
  },
  {
   "cell_type": "code",
   "execution_count": null,
   "id": "0c5e3626-9f12-468b-8f43-fcea0ce38abe",
   "metadata": {
    "tags": []
   },
   "outputs": [],
   "source": [
    "sensitivityAnalysis = ot.FunctionalChaosSobolIndices(result)\n",
    "first_order = [sensitivityAnalysis.getSobolIndex(i) for i in range(dimension)]\n",
    "total_order = [sensitivityAnalysis.getSobolTotalIndex(i) for i in range(dimension)]\n",
    "print(\"Sensitivity Analysis of the First Order Sobol Index is:\", first_order)\n",
    "print(\"Sensitivity Analysis of the Total Order Sobol Index is:\", total_order)"
   ]
  },
  {
   "cell_type": "markdown",
   "id": "16bfb9b3-5f17-4938-97ff-2f9c62698da0",
   "metadata": {
    "tags": []
   },
   "source": [
    "<h3>13. Sobol' Index</h3>"
   ]
  },
  {
   "cell_type": "code",
   "execution_count": null,
   "id": "c897d06a-ac31-4f43-a491-8a5da1fd4257",
   "metadata": {},
   "outputs": [],
   "source": [
    "input_names = metamodel.getInputDescription()\n",
    "graph = ot.SobolIndicesAlgorithm.DrawSobolIndices(input_names, first_order, total_order)\n",
    "graph.setLegendPosition(\"center\")\n",
    "view = viewer.View(graph)"
   ]
  },
  {
   "cell_type": "markdown",
   "id": "da96ad09-3a3d-4275-9be1-241878cf3a5e",
   "metadata": {},
   "source": [
    "<h3>14. Maximum Total Degree</h3>"
   ]
  },
  {
   "cell_type": "code",
   "execution_count": null,
   "id": "b40c34d8-332e-44b4-a025-0d5628075d7e",
   "metadata": {},
   "outputs": [],
   "source": [
    "ot.ResourceMap.GetAsUnsignedInteger(\"FunctionalChaosAlgorithm-MaximumTotalDegree\")"
   ]
  },
  {
   "cell_type": "markdown",
   "id": "837bb7ab-ff26-4e97-8375-0e8e0b7f03b6",
   "metadata": {},
   "source": [
    "Test the maximum degree"
   ]
  },
  {
   "cell_type": "code",
   "execution_count": null,
   "id": "1b8eea5e-96e0-45ce-8e73-64f1d86cb4dc",
   "metadata": {},
   "outputs": [],
   "source": [
    "degrees = range(1, 12)\n",
    "r2 = ot.Sample(len(degrees), 1)  # Change to 1 if you have only one output\n",
    "\n",
    "for maximumDegree in degrees:\n",
    "    ot.ResourceMap.SetAsUnsignedInteger(\n",
    "        \"FunctionalChaosAlgorithm-MaximumTotalDegree\", maximumDegree\n",
    "    )\n",
    "    print(\"Maximum total degree =\", maximumDegree)\n",
    "    algo = ot.FunctionalChaosAlgorithm(inputSample, outputSample)\n",
    "    algo.run()\n",
    "    result = algo.getResult()\n",
    "    metamodel = result.getMetaModel()\n",
    "\n",
    "    # Since there's only one output, remove the loop over outputIndex\n",
    "    val = ot.MetaModelValidation(outputTest, metamodel(inputTest))\n",
    "    r2Value = min(1.0, max(0.0, val.computeR2Score()[0]))  # Use [0] instead of [1]\n",
    "    r2[maximumDegree - degrees[0], 0] = r2Value\n"
   ]
  },
  {
   "cell_type": "markdown",
   "id": "bda202f5-d43d-46ea-8829-96ad32efc9e7",
   "metadata": {},
   "source": [
    "<h3>15. Predictivity</h3>"
   ]
  },
  {
   "cell_type": "code",
   "execution_count": null,
   "id": "8d63610b-b784-4311-aec3-4b16599fe12f",
   "metadata": {
    "tags": []
   },
   "outputs": [],
   "source": [
    "# Create the graph for R2 values for each output\n",
    "graph = ot.Graph(\"Predictivity\", \"Total degree\", \"R2\", True)\n",
    "\n",
    "# Plot for output 0\n",
    "cloud = ot.Cloud([[d] for d in degrees], r2[:, 0])\n",
    "cloud.setLegend(\"Output #0\")\n",
    "cloud.setPointStyle(\"bullet\")\n",
    "graph.add(cloud)\n",
    "\n",
    "# Check if there is a second output (if r2 has more than one column)\n",
    "if r2.getDimension() > 1:\n",
    "    cloud = ot.Cloud([[d] for d in degrees], r2[:, 1])\n",
    "    cloud.setLegend(\"Output #1\")\n",
    "    cloud.setColor(\"red\")\n",
    "    cloud.setPointStyle(\"bullet\")\n",
    "    graph.add(cloud)\n",
    "\n",
    "graph.setLegendPosition(\"upper right\")\n",
    "view = viewer.View(graph, legend_kw={\"bbox_to_anchor\": (1.0, 1.0), \"loc\": \"upper left\"})\n",
    "plt.subplots_adjust(right=0.7)\n",
    "\n",
    "plt.show()"
   ]
  },
  {
   "cell_type": "markdown",
   "id": "43513ec4-03e6-4994-980b-2a7ff96c5c07",
   "metadata": {},
   "source": [
    "<h3>15. Metamodel Visualisation with openMDAO</h3>"
   ]
  },
  {
   "cell_type": "code",
   "execution_count": null,
   "id": "46da8b31-f78e-4cdd-b7c4-d4a4feab59d3",
   "metadata": {},
   "outputs": [],
   "source": [
    "import openmdao.api as om\n",
    "import numpy as np\n",
    "import matplotlib.pyplot as plt\n",
    "\n",
    "# Assuming train_x0, train_x1, and t_data are correctly loaded\n",
    "train_x0 = train_array[:, 0]  # First input dimension\n",
    "train_x1 = train_array[:, 1]  # Second input dimension\n",
    "t_data = test_array  # Replace with your dataset (PIM subsidence + displacement)\n",
    "\n",
    "# Define the OpenMDAO Problem\n",
    "prob = om.Problem()\n",
    "\n",
    "# MetaModelUnStructuredComp for unstructured data\n",
    "mm = prob.model.add_subsystem('mm', om.MetaModelUnStructuredComp(), promotes=['x0', 'x1'])\n",
    "\n",
    "# Add inputs from your training data\n",
    "mm.add_input('x0', 0.0, training_data=train_x0)\n",
    "mm.add_input('x1', 0.0, training_data=train_x1)\n",
    "\n",
    "# Add separate outputs for the two columns of your dataset\n",
    "mm.add_output('f1', 0.0, training_data=t_data[:, 0])  # First output: Cumulative-Displacement-Y\n",
    "mm.add_output('f2', 0.0, training_data=t_data[:, 1])  # Second output: PIM Subsidence\n",
    "\n",
    "# Specify the surrogate model for both outputs using either of 2 options:\n",
    "# NearestNeighbor - Surrogate model based on the N-Dimensional Interpolation\n",
    "# ResponseSurface - Surrogate Model based on second order response surface equations\n",
    "mm.options['default_surrogate'] = om.ResponseSurface()\n",
    "\n",
    "# Set up and finalize the problem\n",
    "prob.setup()\n",
    "prob.final_setup()\n",
    "\n",
    "# Now let's visualize the PCE metamodel predictions over the input space\n",
    "\n",
    "# Create a meshgrid for visualizing the input space\n",
    "x0_min, x0_max = min(train_x0), max(train_x0)\n",
    "x1_min, x1_max = min(train_x1), max(train_x1)\n",
    "\n",
    "x0_range = np.linspace(x0_min, x0_max, 100)\n",
    "x1_range = np.linspace(x1_min, x1_max, 100)\n",
    "\n",
    "X0, X1 = np.meshgrid(x0_range, x1_range)\n",
    "\n",
    "# Initialize arrays to store the predictions\n",
    "F1 = np.zeros_like(X0)\n",
    "F2 = np.zeros_like(X0)\n",
    "\n",
    "# Evaluate the PCE metamodel for each point in the meshgrid\n",
    "for i in range(X0.shape[0]):\n",
    "    for j in range(X0.shape[1]):\n",
    "        prob['x0'] = X0[i, j]\n",
    "        prob['x1'] = X1[i, j]\n",
    "        prob.run_model()\n",
    "        F1[i, j] = prob['mm.f1']\n",
    "        F2[i, j] = prob['mm.f2']"
   ]
  },
  {
   "cell_type": "markdown",
   "id": "bd6e2a5a-7adf-47c6-8b9d-96815b132628",
   "metadata": {},
   "source": [
    "Plot the Heatmaps"
   ]
  },
  {
   "cell_type": "code",
   "execution_count": null,
   "id": "ac5e72f0-4108-4cf3-9caa-392eea85c8c1",
   "metadata": {},
   "outputs": [],
   "source": [
    "# Plot the first output (Cumulative-Displacement-Y)\n",
    "plt.contourf(X0, X1, F1, levels=50, cmap='viridis')\n",
    "plt.colorbar()\n",
    "plt.title('PCE Metamodel Prediction Surface (Validation Loss)')\n",
    "plt.xlabel('Input Dimension x0')\n",
    "plt.ylabel('Input Dimension x1')\n",
    "plt.show()\n",
    "\n",
    "# Plot the second output (PIM Subsidence)\n",
    "plt.contourf(X0, X1, F2, levels=50, cmap='plasma')\n",
    "plt.colorbar()\n",
    "plt.title('PCE Metamodel Prediction Surface (Training Loss)')\n",
    "plt.xlabel('Input Dimension x0')\n",
    "plt.ylabel('Input Dimension x1')\n",
    "plt.show()"
   ]
  },
  {
   "cell_type": "markdown",
   "id": "124a393e-5c87-44fc-8f49-2e1689bbd9ff",
   "metadata": {},
   "source": [
    "<h3>16. FunctionalChaosResult Visualisation with openMDAO</h3>"
   ]
  },
  {
   "cell_type": "code",
   "execution_count": null,
   "id": "77b0abb6-b841-497d-9234-2f6f7a06473b",
   "metadata": {},
   "outputs": [],
   "source": [
    "import openmdao.api as om\n",
    "import numpy as np\n",
    "\n",
    "# Define a custom surrogate class for the Functional Chaos Expansion (FCE)\n",
    "class FCE_Surrogate(om.MetaModelUnStructuredComp):\n",
    "    def setup(self):\n",
    "        # FCE input data (you can replace this with actual data if needed)\n",
    "        train_x0 = np.linspace(0, 1, 20)  # First input dimension (x0)\n",
    "        train_x1 = np.linspace(0, 1, 20)  # Second input dimension (x1)\n",
    "\n",
    "        # FCE output coefficients for f1 and f2 (replace with actual coefficients)\n",
    "        train_f1 = [-0.3154594, 0.05878552, 1.508912, -0.1841002, -3.16418, 5.736576, -7.098539]  # Output 1 coefficients (f1)\n",
    "        train_f2 = [0.2007267, -0.03381607, 0.07644821, 0.06483326, -0.2200801, 0.400791, -0.4640608]  # Output 2 coefficients (f2)\n",
    "\n",
    "        # Method to evaluate Functional Chaos Expansion\n",
    "        def evaluate_fce(coeffs, x0, x1):\n",
    "            \"\"\"Apply the FCE expansion to get the output at given x0, x1.\"\"\"\n",
    "            return (\n",
    "                coeffs[0] + coeffs[1] * x0 + coeffs[2] * x1 +\n",
    "                coeffs[3] * (x0 ** 2) + coeffs[4] * (x1 ** 2) +\n",
    "                coeffs[5] * (x0 ** 3) + coeffs[6] * (x1 ** 3)\n",
    "            )\n",
    "\n",
    "        # Generate training data for outputs using the FCE coefficients\n",
    "        t_data_f1 = evaluate_fce(train_f1, train_x0, train_x1)\n",
    "        t_data_f2 = evaluate_fce(train_f2, train_x0, train_x1)\n",
    "\n",
    "        # Add inputs\n",
    "        self.add_input('x0', 0.0, training_data=train_x0)\n",
    "        self.add_input('x1', 0.0, training_data=train_x1)\n",
    "\n",
    "        # Add outputs with the training data derived from FCE\n",
    "        self.add_output('f1', 0.0, training_data=t_data_f1)\n",
    "        self.add_output('f2', 0.0, training_data=t_data_f2)\n",
    "\n",
    "        # Specify the surrogate model (ResponseSurface or others)\n",
    "        self.options['default_surrogate'] = om.ResponseSurface()\n",
    "\n",
    "# Define the OpenMDAO problem and add the surrogate model\n",
    "prob = om.Problem()\n",
    "mm = prob.model.add_subsystem('mm', FCE_Surrogate(), promotes=['x0', 'x1'])\n",
    "\n",
    "# Setup and finalize the problem\n",
    "prob.setup()\n",
    "prob.final_setup()\n",
    "\n",
    "# Define the input ranges for visualization\n",
    "x0_range = np.linspace(0, 1, 100)\n",
    "x1_range = np.linspace(0, 1, 100)\n",
    "X0, X1 = np.meshgrid(x0_range, x1_range)\n",
    "\n",
    "# Evaluate the surrogate model for both outputs\n",
    "F1 = np.zeros_like(X0)\n",
    "F2 = np.zeros_like(X0)\n",
    "\n",
    "for i in range(X0.shape[0]):\n",
    "    for j in range(X0.shape[1]):\n",
    "        prob['x0'] = X0[i, j]\n",
    "        prob['x1'] = X1[i, j]\n",
    "        prob.run_model()\n",
    "        F1[i, j] = prob['mm.f1']\n",
    "        F2[i, j] = prob['mm.f2']\n",
    "\n",
    "# Visualize the results\n",
    "import matplotlib.pyplot as plt\n",
    "\n",
    "plt.contourf(X0, X1, F1, levels=50, cmap='viridis')\n",
    "plt.colorbar()\n",
    "plt.title('Metamodel Coefficient #0')\n",
    "plt.xlabel('Input Dimension x0')\n",
    "plt.ylabel('Input Dimension x1')\n",
    "plt.show()\n",
    "\n",
    "# Visualization of F2 (PIM Subsidence)\n",
    "plt.contourf(X0, X1, F2, levels=50, cmap='plasma')\n",
    "plt.colorbar()\n",
    "plt.title('Metamodel Coefficient #1')\n",
    "plt.xlabel('Input Dimension x0')\n",
    "plt.ylabel('Input Dimension x1')\n",
    "plt.show()"
   ]
  },
  {
   "cell_type": "markdown",
   "id": "ae471984-56ff-4c70-bf13-0b5625cce94f",
   "metadata": {},
   "source": [
    "Optionally, open metamodels in external openMDAO viewer"
   ]
  },
  {
   "cell_type": "code",
   "execution_count": null,
   "id": "f5bea2d8-2931-4ca9-840e-94a5daaf888e",
   "metadata": {},
   "outputs": [],
   "source": [
    "!openmdao view_mm /content/unstructured_meta_model_example.py"
   ]
  },
  {
   "cell_type": "markdown",
   "id": "4bcc1123-4e2d-4c6c-9e41-c3b14161dde1",
   "metadata": {},
   "source": [
    "<h3>17. Sensitivity Analysis details table</h3>"
   ]
  },
  {
   "cell_type": "markdown",
   "id": "0db96dff-4e2c-4d41-b946-b1957fb4c363",
   "metadata": {},
   "source": [
    "Display results in a DataFrame table"
   ]
  },
  {
   "cell_type": "code",
   "execution_count": null,
   "id": "86db23cb-b0d1-4e67-ba9f-e64f81e6cbf7",
   "metadata": {},
   "outputs": [],
   "source": [
    "# Data for Combination 1\n",
    "combination_1 = {\n",
    "    'Input': ['test_predictions.csv + train_predictions.csv'],\n",
    "    'Output': ['validation_predictions.csv + train_predictions.csv'],\n",
    "    'R² Score': [[0.0143, 1]],\n",
    "    'Relative Errors': [[0.9853, 2.743e-30]],\n",
    "    'Residuals': [[0.0152, 2.552e-17]]\n",
    "}\n",
    "\n",
    "# Data for Combination 2\n",
    "combination_2 = {\n",
    "    'Input': ['test_predictions.csv + train_predictions.csv'],\n",
    "    'Output': ['Cumulative-Displacement-Y + PIM_Subsidence'],\n",
    "    'R² Score': [[0.0082, 0.0102]],\n",
    "    'Relative Errors': [[0.9914, 0.9894]],\n",
    "    'Residuals': [[0.1048, 0.0165]]\n",
    "}\n",
    "\n",
    "# Create DataFrames\n",
    "df_combination_1 = pd.DataFrame(combination_1)\n",
    "df_combination_2 = pd.DataFrame(combination_2)\n",
    "\n",
    "# Display the tables\n",
    "print(\"Combination 1:\")\n",
    "print(df_combination_1.to_string(index=False))\n",
    "\n",
    "print(\"\\nCombination 2:\")\n",
    "print(df_combination_2.to_string(index=False))"
   ]
  }
 ],
 "metadata": {
  "kernelspec": {
   "display_name": "Python",
   "language": "python",
   "name": "conda-env-python-py"
  },
  "language_info": {
   "codemirror_mode": {
    "name": "ipython",
    "version": 3
   },
   "file_extension": ".py",
   "mimetype": "text/x-python",
   "name": "python",
   "nbconvert_exporter": "python",
   "pygments_lexer": "ipython3",
   "version": "3.7.12"
  }
 },
 "nbformat": 4,
 "nbformat_minor": 5
}
